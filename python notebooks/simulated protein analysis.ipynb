{
 "cells": [
  {
   "cell_type": "code",
   "execution_count": 1,
   "id": "7681b259",
   "metadata": {},
   "outputs": [],
   "source": [
    "import pandas as pd"
   ]
  },
  {
   "cell_type": "code",
   "execution_count": 25,
   "id": "678956f4",
   "metadata": {},
   "outputs": [],
   "source": [
    "d = pd.read_csv(\"/Users/noa/Workspace/protein_prediction.csv\")\n",
    "d2 = pd.read_csv(\"/Users/noa/Workspace/protein_prediction2.csv\")\n",
    "d = pd.concat([d,d2])"
   ]
  },
  {
   "cell_type": "code",
   "execution_count": 35,
   "id": "ccc470b2",
   "metadata": {},
   "outputs": [
    {
     "data": {
      "text/html": [
       "<div>\n",
       "<style scoped>\n",
       "    .dataframe tbody tr th:only-of-type {\n",
       "        vertical-align: middle;\n",
       "    }\n",
       "\n",
       "    .dataframe tbody tr th {\n",
       "        vertical-align: top;\n",
       "    }\n",
       "\n",
       "    .dataframe thead th {\n",
       "        text-align: right;\n",
       "    }\n",
       "</style>\n",
       "<table border=\"1\" class=\"dataframe\">\n",
       "  <thead>\n",
       "    <tr style=\"text-align: right;\">\n",
       "      <th></th>\n",
       "      <th>Unnamed: 0</th>\n",
       "      <th>bootstrap_support</th>\n",
       "      <th>feature_partition_size</th>\n",
       "      <th>feature_partition_divergence</th>\n",
       "      <th>feature_partition_size_ratio</th>\n",
       "      <th>feature_divergence_ratio</th>\n",
       "      <th>feature_mean_bl_bipart</th>\n",
       "      <th>feature_min_bl_bipart</th>\n",
       "      <th>feature_max_bl_bipart</th>\n",
       "      <th>feature_min_vs_max_bl_bipart</th>\n",
       "      <th>...</th>\n",
       "      <th>feature_abayes</th>\n",
       "      <th>feature_min_ll_diff</th>\n",
       "      <th>feature_max_ll_diff</th>\n",
       "      <th>mle_tree_FEATURE_time</th>\n",
       "      <th>extra_FEATURE_extraction_time</th>\n",
       "      <th>total_nni_per_node_FEATURE_extraction_time</th>\n",
       "      <th>total_other_per_node_FEATURE_extraction_time</th>\n",
       "      <th>predicted_bootstrap_score_nni</th>\n",
       "      <th>predicted_bootstrap_score_no_nni</th>\n",
       "      <th>msa_ind</th>\n",
       "    </tr>\n",
       "  </thead>\n",
       "  <tbody>\n",
       "    <tr>\n",
       "      <th>49</th>\n",
       "      <td>3</td>\n",
       "      <td>1.0</td>\n",
       "      <td>19.0</td>\n",
       "      <td>4.316252</td>\n",
       "      <td>0.112426</td>\n",
       "      <td>0.130607</td>\n",
       "      <td>0.190742</td>\n",
       "      <td>0.038615</td>\n",
       "      <td>0.512028</td>\n",
       "      <td>0.075416</td>\n",
       "      <td>...</td>\n",
       "      <td>1.000000</td>\n",
       "      <td>0.000051</td>\n",
       "      <td>0.000092</td>\n",
       "      <td>2.028537</td>\n",
       "      <td>14.142897</td>\n",
       "      <td>762.100892</td>\n",
       "      <td>6.908926</td>\n",
       "      <td>0.385747</td>\n",
       "      <td>0.323073</td>\n",
       "      <td>1</td>\n",
       "    </tr>\n",
       "    <tr>\n",
       "      <th>56</th>\n",
       "      <td>10</td>\n",
       "      <td>1.0</td>\n",
       "      <td>7.0</td>\n",
       "      <td>0.839835</td>\n",
       "      <td>0.041420</td>\n",
       "      <td>0.025413</td>\n",
       "      <td>0.156363</td>\n",
       "      <td>0.047872</td>\n",
       "      <td>0.298599</td>\n",
       "      <td>0.160322</td>\n",
       "      <td>...</td>\n",
       "      <td>0.999999</td>\n",
       "      <td>0.691858</td>\n",
       "      <td>0.692874</td>\n",
       "      <td>2.028537</td>\n",
       "      <td>14.142897</td>\n",
       "      <td>762.100892</td>\n",
       "      <td>6.908926</td>\n",
       "      <td>0.669619</td>\n",
       "      <td>0.687175</td>\n",
       "      <td>1</td>\n",
       "    </tr>\n",
       "    <tr>\n",
       "      <th>57</th>\n",
       "      <td>11</td>\n",
       "      <td>1.0</td>\n",
       "      <td>8.0</td>\n",
       "      <td>2.651045</td>\n",
       "      <td>0.047337</td>\n",
       "      <td>0.080219</td>\n",
       "      <td>0.140485</td>\n",
       "      <td>0.038615</td>\n",
       "      <td>0.277547</td>\n",
       "      <td>0.139130</td>\n",
       "      <td>...</td>\n",
       "      <td>1.000000</td>\n",
       "      <td>0.000003</td>\n",
       "      <td>0.000489</td>\n",
       "      <td>2.028537</td>\n",
       "      <td>14.142897</td>\n",
       "      <td>762.100892</td>\n",
       "      <td>6.908926</td>\n",
       "      <td>0.448064</td>\n",
       "      <td>0.325524</td>\n",
       "      <td>1</td>\n",
       "    </tr>\n",
       "    <tr>\n",
       "      <th>156</th>\n",
       "      <td>110</td>\n",
       "      <td>1.0</td>\n",
       "      <td>10.0</td>\n",
       "      <td>1.350959</td>\n",
       "      <td>0.059172</td>\n",
       "      <td>0.040879</td>\n",
       "      <td>0.045540</td>\n",
       "      <td>0.022288</td>\n",
       "      <td>0.079092</td>\n",
       "      <td>0.281798</td>\n",
       "      <td>...</td>\n",
       "      <td>0.999998</td>\n",
       "      <td>1.029724</td>\n",
       "      <td>1.402280</td>\n",
       "      <td>2.028537</td>\n",
       "      <td>14.142897</td>\n",
       "      <td>762.100892</td>\n",
       "      <td>6.908926</td>\n",
       "      <td>0.659796</td>\n",
       "      <td>0.550016</td>\n",
       "      <td>1</td>\n",
       "    </tr>\n",
       "  </tbody>\n",
       "</table>\n",
       "<p>4 rows × 60 columns</p>\n",
       "</div>"
      ],
      "text/plain": [
       "     Unnamed: 0  bootstrap_support  feature_partition_size  \\\n",
       "49            3                1.0                    19.0   \n",
       "56           10                1.0                     7.0   \n",
       "57           11                1.0                     8.0   \n",
       "156         110                1.0                    10.0   \n",
       "\n",
       "     feature_partition_divergence  feature_partition_size_ratio  \\\n",
       "49                       4.316252                      0.112426   \n",
       "56                       0.839835                      0.041420   \n",
       "57                       2.651045                      0.047337   \n",
       "156                      1.350959                      0.059172   \n",
       "\n",
       "     feature_divergence_ratio  feature_mean_bl_bipart  feature_min_bl_bipart  \\\n",
       "49                   0.130607                0.190742               0.038615   \n",
       "56                   0.025413                0.156363               0.047872   \n",
       "57                   0.080219                0.140485               0.038615   \n",
       "156                  0.040879                0.045540               0.022288   \n",
       "\n",
       "     feature_max_bl_bipart  feature_min_vs_max_bl_bipart  ...  feature_abayes  \\\n",
       "49                0.512028                      0.075416  ...        1.000000   \n",
       "56                0.298599                      0.160322  ...        0.999999   \n",
       "57                0.277547                      0.139130  ...        1.000000   \n",
       "156               0.079092                      0.281798  ...        0.999998   \n",
       "\n",
       "     feature_min_ll_diff  feature_max_ll_diff  mle_tree_FEATURE_time  \\\n",
       "49              0.000051             0.000092               2.028537   \n",
       "56              0.691858             0.692874               2.028537   \n",
       "57              0.000003             0.000489               2.028537   \n",
       "156             1.029724             1.402280               2.028537   \n",
       "\n",
       "     extra_FEATURE_extraction_time  \\\n",
       "49                       14.142897   \n",
       "56                       14.142897   \n",
       "57                       14.142897   \n",
       "156                      14.142897   \n",
       "\n",
       "     total_nni_per_node_FEATURE_extraction_time  \\\n",
       "49                                   762.100892   \n",
       "56                                   762.100892   \n",
       "57                                   762.100892   \n",
       "156                                  762.100892   \n",
       "\n",
       "     total_other_per_node_FEATURE_extraction_time  \\\n",
       "49                                       6.908926   \n",
       "56                                       6.908926   \n",
       "57                                       6.908926   \n",
       "156                                      6.908926   \n",
       "\n",
       "     predicted_bootstrap_score_nni  predicted_bootstrap_score_no_nni  msa_ind  \n",
       "49                        0.385747                          0.323073        1  \n",
       "56                        0.669619                          0.687175        1  \n",
       "57                        0.448064                          0.325524        1  \n",
       "156                       0.659796                          0.550016        1  \n",
       "\n",
       "[4 rows x 60 columns]"
      ]
     },
     "execution_count": 35,
     "metadata": {},
     "output_type": "execute_result"
    }
   ],
   "source": [
    "d.loc[d.true_support==0]"
   ]
  },
  {
   "cell_type": "code",
   "execution_count": 27,
   "id": "01ee0205",
   "metadata": {},
   "outputs": [
    {
     "name": "stderr",
     "output_type": "stream",
     "text": [
      "No artists with labels found to put in legend.  Note that artists whose label start with an underscore are ignored when legend() is called with no argument.\n"
     ]
    },
    {
     "data": {
      "text/plain": [
       "<matplotlib.legend.Legend at 0x7f9e96bac0d0>"
      ]
     },
     "execution_count": 27,
     "metadata": {},
     "output_type": "execute_result"
    },
    {
     "data": {
      "image/png": "[encoded data removed]",
      "text/plain": [
       "<Figure size 640x480 with 1 Axes>"
      ]
     },
     "metadata": {},
     "output_type": "display_data"
    }
   ],
   "source": [
    "from sklearn.metrics import roc_auc_score\n",
    "\n",
    "from sklearn.calibration import CalibratedClassifierCV, calibration_curve\n",
    "import matplotlib.pyplot as plt\n",
    "\n",
    "\n",
    "fig, ax = plt.subplots()\n",
    "true_calibrated, pred_calibrated = calibration_curve(d['true_support'],d['predicted_bootstrap_score_nni'], n_bins=5)\n",
    "ax.plot(true_calibrated, pred_calibrated, marker='.')\n",
    "ax.plot([0, 1], [0, 1], linestyle='--', color='black')\n",
    "#ax.set_xlabel('True probabilities')\n",
    "#ax.set_ylabel('Predicted probabilities')\n",
    "fig.text(0.5, 0.04, 'Observation', ha='center', va='center')\n",
    "fig.text(0.06, 0.5, 'Prediction', ha='center', va='center', rotation='vertical')\n",
    "#ax.legend(bbox_to_anchor=(0,0))\n",
    "#ax.legend()\n",
    "pos = ax.get_position()\n",
    "ax.set_position([pos.x0, pos.y0, pos.width * 0.9, pos.height])\n",
    "ax.legend(loc='center right', bbox_to_anchor=(1.3, 0.5))\n",
    "    \n"
   ]
  },
  {
   "cell_type": "code",
   "execution_count": 28,
   "id": "d48f19d8",
   "metadata": {},
   "outputs": [
    {
     "data": {
      "text/plain": [
       "0.4959839357429719"
      ]
     },
     "execution_count": 28,
     "metadata": {},
     "output_type": "execute_result"
    }
   ],
   "source": [
    "from sklearn.metrics import matthews_corrcoef\n",
    "from sklearn.metrics import f1_score\n",
    "matthews_corrcoef(d['true_support'],d['predicted_bootstrap_score_nni']>0.5)"
   ]
  },
  {
   "cell_type": "code",
   "execution_count": 29,
   "id": "c5a7d9a7",
   "metadata": {},
   "outputs": [
    {
     "data": {
      "text/plain": [
       "0.9944779116465863"
      ]
     },
     "execution_count": 29,
     "metadata": {},
     "output_type": "execute_result"
    }
   ],
   "source": [
    "roc_auc_score(d['true_support'],d['predicted_bootstrap_score_nni'])"
   ]
  },
  {
   "cell_type": "code",
   "execution_count": 31,
   "id": "115d3f9a",
   "metadata": {},
   "outputs": [
    {
     "data": {
      "text/plain": [
       "0.9896986035552756"
      ]
     },
     "execution_count": 31,
     "metadata": {},
     "output_type": "execute_result"
    }
   ],
   "source": [
    "import numpy as np\n",
    "#plt.hist(d[\"predicted_bootstrap_score_nni\"])\n",
    "np.mean(d[\"predicted_bootstrap_score_nni\"])\n",
    "#np.mean(d[\"true_support\"])\n"
   ]
  },
  {
   "cell_type": "code",
   "execution_count": null,
   "id": "0ec9d8bc",
   "metadata": {},
   "outputs": [],
   "source": []
  }
 ],
 "metadata": {
  "kernelspec": {
   "display_name": "Python 3 (ipykernel)",
   "language": "python",
   "name": "python3"
  },
  "language_info": {
   "codemirror_mode": {
    "name": "ipython",
    "version": 3
   },
   "file_extension": ".py",
   "mimetype": "text/x-python",
   "name": "python",
   "nbconvert_exporter": "python",
   "pygments_lexer": "ipython3",
   "version": "3.8.5"
  }
 },
 "nbformat": 4,
 "nbformat_minor": 5
}
